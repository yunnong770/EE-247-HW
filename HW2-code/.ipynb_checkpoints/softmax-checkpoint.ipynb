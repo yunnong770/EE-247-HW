{
 "cells": [
  {
   "cell_type": "markdown",
   "metadata": {},
   "source": [
    "## This is the softmax workbook for ECE C147/C247 Assignment #2\n",
    "\n",
    "Please follow the notebook linearly to implement a softmax classifier.\n",
    "\n",
    "Please print out the workbook entirely when completed.\n",
    "\n",
    "We thank Serena Yeung & Justin Johnson for permission to use code written for the CS 231n class (cs231n.stanford.edu).  These are the functions in the cs231n folders and code in the jupyer notebook to preprocess and show the images.  The classifiers used are based off of code prepared for CS 231n as well.\n",
    "\n",
    "The goal of this workbook is to give you experience with training a softmax classifier."
   ]
  },
  {
   "cell_type": "code",
   "execution_count": 1,
   "metadata": {},
   "outputs": [],
   "source": [
    "import random\n",
    "import numpy as np\n",
    "from cs231n.data_utils import load_CIFAR10\n",
    "import matplotlib.pyplot as plt\n",
    "\n",
    "%matplotlib inline\n",
    "%load_ext autoreload\n",
    "%autoreload 2"
   ]
  },
  {
   "cell_type": "code",
   "execution_count": 2,
   "metadata": {
    "scrolled": true
   },
   "outputs": [
    {
     "name": "stdout",
     "output_type": "stream",
     "text": [
      "Train data shape:  (49000, 3073)\n",
      "Train labels shape:  (49000,)\n",
      "Validation data shape:  (1000, 3073)\n",
      "Validation labels shape:  (1000,)\n",
      "Test data shape:  (1000, 3073)\n",
      "Test labels shape:  (1000,)\n",
      "dev data shape:  (500, 3073)\n",
      "dev labels shape:  (500,)\n"
     ]
    }
   ],
   "source": [
    "def get_CIFAR10_data(num_training=49000, num_validation=1000, num_test=1000, num_dev=500):\n",
    "    \"\"\"\n",
    "    Load the CIFAR-10 dataset from disk and perform preprocessing to prepare\n",
    "    it for the linear classifier. These are the same steps as we used for the\n",
    "    SVM, but condensed to a single function.  \n",
    "    \"\"\"\n",
    "    # Load the raw CIFAR-10 data\n",
    "    cifar10_dir = 'D:\\Winter 2021\\EE 247\\cifar-10-python\\cifar-10-batches-py' # You need to update this line\n",
    "    X_train, y_train, X_test, y_test = load_CIFAR10(cifar10_dir)\n",
    "    \n",
    "    # subsample the data\n",
    "    mask = list(range(num_training, num_training + num_validation))\n",
    "    X_val = X_train[mask]\n",
    "    y_val = y_train[mask]\n",
    "    mask = list(range(num_training))\n",
    "    X_train = X_train[mask]\n",
    "    y_train = y_train[mask]\n",
    "    mask = list(range(num_test))\n",
    "    X_test = X_test[mask]\n",
    "    y_test = y_test[mask]\n",
    "    mask = np.random.choice(num_training, num_dev, replace=False)\n",
    "    X_dev = X_train[mask]\n",
    "    y_dev = y_train[mask]\n",
    "    \n",
    "    # Preprocessing: reshape the image data into rows\n",
    "    X_train = np.reshape(X_train, (X_train.shape[0], -1))\n",
    "    X_val = np.reshape(X_val, (X_val.shape[0], -1))\n",
    "    X_test = np.reshape(X_test, (X_test.shape[0], -1))\n",
    "    X_dev = np.reshape(X_dev, (X_dev.shape[0], -1))\n",
    "    \n",
    "    # Normalize the data: subtract the mean image\n",
    "    mean_image = np.mean(X_train, axis = 0)\n",
    "    X_train -= mean_image\n",
    "    X_val -= mean_image\n",
    "    X_test -= mean_image\n",
    "    X_dev -= mean_image\n",
    "    \n",
    "    # add bias dimension and transform into columns\n",
    "    X_train = np.hstack([X_train, np.ones((X_train.shape[0], 1))])\n",
    "    X_val = np.hstack([X_val, np.ones((X_val.shape[0], 1))])\n",
    "    X_test = np.hstack([X_test, np.ones((X_test.shape[0], 1))])\n",
    "    X_dev = np.hstack([X_dev, np.ones((X_dev.shape[0], 1))])\n",
    "    \n",
    "    return X_train, y_train, X_val, y_val, X_test, y_test, X_dev, y_dev\n",
    "\n",
    "\n",
    "# Invoke the above function to get our data.\n",
    "X_train, y_train, X_val, y_val, X_test, y_test, X_dev, y_dev = get_CIFAR10_data()\n",
    "print('Train data shape: ', X_train.shape)\n",
    "print('Train labels shape: ', y_train.shape)\n",
    "print('Validation data shape: ', X_val.shape)\n",
    "print('Validation labels shape: ', y_val.shape)\n",
    "print('Test data shape: ', X_test.shape)\n",
    "print('Test labels shape: ', y_test.shape)\n",
    "print('dev data shape: ', X_dev.shape)\n",
    "print('dev labels shape: ', y_dev.shape)"
   ]
  },
  {
   "cell_type": "markdown",
   "metadata": {},
   "source": [
    "## Training a softmax classifier.\n",
    "\n",
    "The following cells will take you through building a softmax classifier.  You will implement its loss function, then subsequently train it with gradient descent.  Finally, you will choose the learning rate of gradient descent to optimize its classification performance."
   ]
  },
  {
   "cell_type": "code",
   "execution_count": 3,
   "metadata": {},
   "outputs": [],
   "source": [
    "from nndl import Softmax"
   ]
  },
  {
   "cell_type": "code",
   "execution_count": 4,
   "metadata": {},
   "outputs": [],
   "source": [
    "# Declare an instance of the Softmax class.  \n",
    "# Weights are initialized to a random value.\n",
    "# Note, to keep people's first solutions consistent, we are going to use a random seed.\n",
    "\n",
    "np.random.seed(1)\n",
    "\n",
    "num_classes = len(np.unique(y_train))\n",
    "num_features = X_train.shape[1]\n",
    "\n",
    "softmax = Softmax(dims=[num_classes, num_features])"
   ]
  },
  {
   "cell_type": "markdown",
   "metadata": {},
   "source": [
    "#### Softmax loss"
   ]
  },
  {
   "cell_type": "code",
   "execution_count": 5,
   "metadata": {},
   "outputs": [],
   "source": [
    "## Implement the loss function of the softmax using a for loop over\n",
    "#  the number of examples\n",
    "\n",
    "loss = softmax.loss(X_train, y_train)"
   ]
  },
  {
   "cell_type": "code",
   "execution_count": 6,
   "metadata": {},
   "outputs": [
    {
     "name": "stdout",
     "output_type": "stream",
     "text": [
      "2.3277607028048757\n"
     ]
    }
   ],
   "source": [
    "print(loss)"
   ]
  },
  {
   "cell_type": "markdown",
   "metadata": {},
   "source": [
    "## Question: \n",
    "\n",
    "You'll notice the loss returned by the softmax is about 2.3 (if implemented correctly).  Why does this make sense?"
   ]
  },
  {
   "cell_type": "markdown",
   "metadata": {},
   "source": [
    "## Answer:\n",
    "\n",
    "When we randomly generate the initial weight, we can think of it as making every sample has the equal probability to be in any of the class, i.e., 0.1 probably in any class ideally. Then, we can calculate the ideal loss of every sample by ln(1 - 0.1) = 2.3."
   ]
  },
  {
   "cell_type": "markdown",
   "metadata": {},
   "source": [
    "#### Softmax gradient"
   ]
  },
  {
   "cell_type": "code",
   "execution_count": 7,
   "metadata": {
    "scrolled": false
   },
   "outputs": [
    {
     "name": "stdout",
     "output_type": "stream",
     "text": [
      "numerical: -0.718556 analytic: -0.718556, relative error: 6.540144e-08\n",
      "numerical: 1.616440 analytic: 1.616440, relative error: 1.235803e-08\n",
      "numerical: 0.747941 analytic: 0.747941, relative error: 4.873081e-08\n",
      "numerical: 3.279884 analytic: 3.279884, relative error: 4.962688e-10\n",
      "numerical: 0.103498 analytic: 0.103498, relative error: 2.503974e-07\n",
      "numerical: 2.102737 analytic: 2.102737, relative error: 3.716465e-09\n",
      "numerical: -0.971107 analytic: -0.971107, relative error: 4.423216e-08\n",
      "numerical: -1.207276 analytic: -1.207277, relative error: 1.860894e-08\n",
      "numerical: 1.442422 analytic: 1.442422, relative error: 1.158416e-09\n",
      "numerical: -2.863992 analytic: -2.863992, relative error: 1.479520e-08\n"
     ]
    }
   ],
   "source": [
    "## Calculate the gradient of the softmax loss in the Softmax class.\n",
    "# For convenience, we'll write one function that computes the loss\n",
    "#   and gradient together, softmax.loss_and_grad(X, y)\n",
    "# You may copy and paste your loss code from softmax.loss() here, and then\n",
    "#   use the appropriate intermediate values to calculate the gradient.\n",
    "\n",
    "loss, grad = softmax.loss_and_grad(X_dev,y_dev)\n",
    "\n",
    "# Compare your gradient to a gradient check we wrote. \n",
    "# You should see relative gradient errors on the order of 1e-07 or less if you implemented the gradient correctly.\n",
    "softmax.grad_check_sparse(X_dev, y_dev, grad)"
   ]
  },
  {
   "cell_type": "markdown",
   "metadata": {},
   "source": [
    "## A vectorized version of Softmax\n",
    "\n",
    "To speed things up, we will vectorize the loss and gradient calculations.  This will be helpful for stochastic gradient descent."
   ]
  },
  {
   "cell_type": "code",
   "execution_count": 8,
   "metadata": {},
   "outputs": [],
   "source": [
    "import time"
   ]
  },
  {
   "cell_type": "code",
   "execution_count": 9,
   "metadata": {},
   "outputs": [
    {
     "name": "stdout",
     "output_type": "stream",
     "text": [
      "Normal loss / grad_norm: 2.3357087991819254 / 350.51818232782665 computed in 0.09175395965576172s\n",
      "Vectorized loss / grad: 2.335708799181925 / 350.51818232782665 computed in 0.012970447540283203s\n",
      "difference in loss / grad: 4.440892098500626e-16 /9.866898444891779e-14 \n"
     ]
    }
   ],
   "source": [
    "## Implement softmax.fast_loss_and_grad which calculates the loss and gradient\n",
    "#    WITHOUT using any for loops.  \n",
    "\n",
    "# Standard loss and gradient\n",
    "tic = time.time()\n",
    "loss, grad = softmax.loss_and_grad(X_dev, y_dev)\n",
    "toc = time.time()\n",
    "print('Normal loss / grad_norm: {} / {} computed in {}s'.format(loss, np.linalg.norm(grad, 'fro'), toc - tic))\n",
    "\n",
    "tic = time.time()\n",
    "loss_vectorized, grad_vectorized = softmax.fast_loss_and_grad(X_dev, y_dev)\n",
    "toc = time.time()\n",
    "print('Vectorized loss / grad: {} / {} computed in {}s'.format(loss_vectorized, np.linalg.norm(grad_vectorized, 'fro'), toc - tic))\n",
    "\n",
    "# The losses should match but your vectorized implementation should be much faster.\n",
    "print('difference in loss / grad: {} /{} '.format(loss - loss_vectorized, np.linalg.norm(grad - grad_vectorized)))\n",
    "\n",
    "# You should notice a speedup with the same output."
   ]
  },
  {
   "cell_type": "markdown",
   "metadata": {},
   "source": [
    "## Stochastic gradient descent\n",
    "\n",
    "We now implement stochastic gradient descent.  This uses the same principles of gradient descent we discussed in class, however, it calculates the gradient by only using examples from a subset of the training set (so each gradient calculation is faster)."
   ]
  },
  {
   "cell_type": "markdown",
   "metadata": {},
   "source": [
    "## Question:\n",
    "\n",
    "How should the softmax gradient descent training step differ from the svm training step, if at all?"
   ]
  },
  {
   "cell_type": "markdown",
   "metadata": {},
   "source": [
    "## Answer:\n",
    "\n",
    "Softmax and SVM use different loss function and therefore the analytical form of these two gradients are very much different. However, the general steps of Softmaxa and SVM are similar where the gradient with the current weight matrix is calculated. And the updated weight matrix becomes the original weight matrix subtracts a learning rate times the calculated gradient."
   ]
  },
  {
   "cell_type": "code",
   "execution_count": 10,
   "metadata": {
    "scrolled": false
   },
   "outputs": [
    {
     "name": "stdout",
     "output_type": "stream",
     "text": [
      "iteration 0 / 1500: loss 2.3365926606637544\n",
      "iteration 100 / 1500: loss 2.0557222613850827\n",
      "iteration 200 / 1500: loss 2.0357745120662813\n",
      "iteration 300 / 1500: loss 1.9813348165609888\n",
      "iteration 400 / 1500: loss 1.9583142443981614\n",
      "iteration 500 / 1500: loss 1.8622653073541355\n",
      "iteration 600 / 1500: loss 1.8532611454359382\n",
      "iteration 700 / 1500: loss 1.8353062223725827\n",
      "iteration 800 / 1500: loss 1.829389246882764\n",
      "iteration 900 / 1500: loss 1.8992158530357484\n",
      "iteration 1000 / 1500: loss 1.9783503540252303\n",
      "iteration 1100 / 1500: loss 1.8470797913532633\n",
      "iteration 1200 / 1500: loss 1.8411450268664082\n",
      "iteration 1300 / 1500: loss 1.7910402495792102\n",
      "iteration 1400 / 1500: loss 1.8705803029382257\n",
      "That took 6.671208143234253s\n"
     ]
    },
    {
     "data": {
      "image/png": "[encoded data removed]",
      "text/plain": [
       "<Figure size 432x288 with 1 Axes>"
      ]
     },
     "metadata": {
      "needs_background": "light"
     },
     "output_type": "display_data"
    }
   ],
   "source": [
    "# Implement softmax.train() by filling in the code to extract a batch of data\n",
    "# and perform the gradient step.\n",
    "import time\n",
    "\n",
    "\n",
    "tic = time.time()\n",
    "loss_hist = softmax.train(X_train, y_train, learning_rate=1e-7,\n",
    "                      num_iters=1500, verbose=True)\n",
    "toc = time.time()\n",
    "print('That took {}s'.format(toc - tic))\n",
    "\n",
    "plt.plot(loss_hist)\n",
    "plt.xlabel('Iteration number')\n",
    "plt.ylabel('Loss value')\n",
    "plt.show()"
   ]
  },
  {
   "cell_type": "markdown",
   "metadata": {},
   "source": [
    "### Evaluate the performance of the trained softmax classifier on the validation data."
   ]
  },
  {
   "cell_type": "code",
   "execution_count": 11,
   "metadata": {},
   "outputs": [
    {
     "name": "stdout",
     "output_type": "stream",
     "text": [
      "training accuracy: 0.3811428571428571\n",
      "validation accuracy: 0.398\n"
     ]
    }
   ],
   "source": [
    "## Implement softmax.predict() and use it to compute the training and testing error.\n",
    "\n",
    "y_train_pred = softmax.predict(X_train)\n",
    "print('training accuracy: {}'.format(np.mean(np.equal(y_train,y_train_pred), )))\n",
    "y_val_pred = softmax.predict(X_val)\n",
    "print('validation accuracy: {}'.format(np.mean(np.equal(y_val, y_val_pred)), ))"
   ]
  },
  {
   "cell_type": "markdown",
   "metadata": {},
   "source": [
    "## Optimize the softmax classifier\n",
    "\n",
    "You may copy and paste your optimization code from the SVM here."
   ]
  },
  {
   "cell_type": "code",
   "execution_count": 12,
   "metadata": {},
   "outputs": [
    {
     "data": {
      "text/plain": [
       "2.220446049250313e-16"
      ]
     },
     "execution_count": 12,
     "metadata": {},
     "output_type": "execute_result"
    }
   ],
   "source": [
    "np.finfo(float).eps"
   ]
  },
  {
   "cell_type": "code",
   "execution_count": 14,
   "metadata": {
    "scrolled": false
   },
   "outputs": [
    {
     "name": "stdout",
     "output_type": "stream",
     "text": [
      "learning rate: 1e-09, training loss : 2.246450159524819, training accuracy: 0.18377551020408164, validation accuracy: 0.18\n",
      "learning rate: 1.8329807108324374e-09, training loss : 2.1558456066257907, training accuracy: 0.18871428571428572, validation accuracy: 0.192\n",
      "learning rate: 3.359818286283788e-09, training loss : 2.1200654573042166, training accuracy: 0.21610204081632653, validation accuracy: 0.224\n",
      "learning rate: 6.158482110660254e-09, training loss : 2.09853121893356, training accuracy: 0.26118367346938776, validation accuracy: 0.277\n",
      "learning rate: 1.1288378916846883e-08, training loss : 1.9894082484253581, training accuracy: 0.2997959183673469, validation accuracy: 0.313\n",
      "learning rate: 2.0691380811147902e-08, training loss : 1.9240488887294669, training accuracy: 0.3246122448979592, validation accuracy: 0.332\n",
      "learning rate: 3.792690190732254e-08, training loss : 1.8521618563868776, training accuracy: 0.3526734693877551, validation accuracy: 0.366\n",
      "learning rate: 6.951927961775605e-08, training loss : 1.7767074675567727, training accuracy: 0.37151020408163266, validation accuracy: 0.386\n",
      "learning rate: 1.274274985703132e-07, training loss : 1.7443689791169217, training accuracy: 0.3832244897959184, validation accuracy: 0.4\n",
      "learning rate: 2.3357214690901212e-07, training loss : 1.7394592768401131, training accuracy: 0.4000408163265306, validation accuracy: 0.397\n",
      "learning rate: 4.281332398719396e-07, training loss : 1.64982460476906, training accuracy: 0.41055102040816327, validation accuracy: 0.401\n",
      "learning rate: 7.847599703514607e-07, training loss : 1.753449871811373, training accuracy: 0.4173265306122449, validation accuracy: 0.409\n",
      "learning rate: 1.438449888287663e-06, training loss : 1.5424401755595682, training accuracy: 0.4256326530612245, validation accuracy: 0.407\n",
      "learning rate: 2.6366508987303555e-06, training loss : 1.6607555269565721, training accuracy: 0.4257959183673469, validation accuracy: 0.388\n",
      "learning rate: 4.832930238571752e-06, training loss : 1.7660796231538518, training accuracy: 0.38642857142857145, validation accuracy: 0.36\n",
      "learning rate: 8.858667904100832e-06, training loss : 2.7522728296029055, training accuracy: 0.35589795918367345, validation accuracy: 0.35\n",
      "learning rate: 1.623776739188721e-05, training loss : 4.720344621756352, training accuracy: 0.32155102040816325, validation accuracy: 0.292\n",
      "learning rate: 2.9763514416313192e-05, training loss : 7.424782158818038, training accuracy: 0.3033877551020408, validation accuracy: 0.268\n",
      "learning rate: 5.4555947811685143e-05, training loss : 12.760823664436378, training accuracy: 0.2726734693877551, validation accuracy: 0.258\n",
      "learning rate: 0.0001, training loss : 21.826768232018086, training accuracy: 0.2745918367346939, validation accuracy: 0.252\n",
      "###############################################################################################\n",
      "best learning rate: 7.847599703514607e-07, best validation accuracy: 0.409\n",
      "###############################################################################################\n",
      "best learning rate: 7.847599703514607e-07, best test error: 0.615\n"
     ]
    },
    {
     "data": {
      "image/png": "[encoded data removed]",
      "text/plain": [
       "<Figure size 432x288 with 1 Axes>"
      ]
     },
     "metadata": {
      "needs_background": "light"
     },
     "output_type": "display_data"
    }
   ],
   "source": [
    "# ================================================================ #\n",
    "# YOUR CODE HERE:\n",
    "#   Train the Softmax classifier with different learning rates and \n",
    "#     evaluate on the validation data.\n",
    "#   Report:\n",
    "#     - The best learning rate of the ones you tested.  \n",
    "#     - The best validation accuracy corresponding to the best validation error.\n",
    "#\n",
    "#   Select the SVM that achieved the best validation error and report\n",
    "#     its error rate on the test set.\n",
    "# ================================================================ #\n",
    "lrs = np.logspace(-9,-4, num = 20)\n",
    "loss_hists = []\n",
    "train_accuracy = []\n",
    "val_accuracy = []\n",
    "\n",
    "for lr in lrs:\n",
    "    \n",
    "    softmax = Softmax(dims=[num_classes, num_features])\n",
    "    \n",
    "    loss_hist = softmax.train(X_train, y_train, learning_rate=lr,\n",
    "                      num_iters=1500, verbose=False)\n",
    "    loss_hists.append(loss_hist)\n",
    "    \n",
    "    y_train_pred = softmax.predict(X_train)\n",
    "    train_accuracy.append(np.mean(np.equal(y_train,y_train_pred), ))\n",
    "    \n",
    "    y_val_pred = softmax.predict(X_val)\n",
    "    val_accuracy.append(np.mean(np.equal(y_val, y_val_pred)), )\n",
    "    \n",
    "    print('learning rate: {}, training loss : {}, training accuracy: {}, validation accuracy: {}'.format(lr, loss_hist[-1], train_accuracy[-1], val_accuracy[-1]))\n",
    "\n",
    "print('###############################################################################################')\n",
    "print('best learning rate: {}, best validation accuracy: {}'.format(lrs[np.argmax(val_accuracy)], max(val_accuracy)))\n",
    "    \n",
    "plt.semilogx(lrs, val_accuracy)\n",
    "plt.xlabel(\"Learning rate\")\n",
    "plt.ylabel(\"Validation Accuracy\")\n",
    "plt.title(\"Validation Accuracy vs Learning Rate\")\n",
    "print('###############################################################################################')\n",
    "\n",
    "softmax = Softmax(dims=[num_classes, num_features])\n",
    "loss_hist = softmax.train(X_train, y_train, learning_rate=lrs[np.argmax(val_accuracy)], num_iters=1500, verbose=False)\n",
    "y_test_pred = softmax.predict(X_test)\n",
    "print('best learning rate: {}, best test error: {}'.format(lrs[np.argmax(val_accuracy)], 1-np.mean(np.equal(y_test, y_test_pred)), ))\n",
    "# ================================================================ #\n",
    "# END YOUR CODE HERE\n",
    "# ================================================================ #\n"
   ]
  },
  {
   "cell_type": "code",
   "execution_count": null,
   "metadata": {},
   "outputs": [],
   "source": [
    "# softmax.py\n",
    "import numpy as np\n",
    "\n",
    "class Softmax(object):\n",
    "\n",
    "    def __init__(self, dims=[10, 3073]):\n",
    "        self.init_weights(dims=dims)\n",
    "\n",
    "    def init_weights(self, dims):\n",
    "        \"\"\"\n",
    "        Initializes the weight matrix of the Softmax classifier.  \n",
    "        Note that it has shape (C, D) where C is the number of \n",
    "        classes and D is the feature size.\n",
    "        \"\"\"\n",
    "        self.W = np.random.normal(size=dims) * 0.0001\n",
    "\n",
    "    def loss(self, X, y):\n",
    "        \"\"\"\n",
    "        Calculates the softmax loss.\n",
    "\n",
    "        Inputs have dimension D, there are C classes, and we operate on minibatches\n",
    "        of N examples.\n",
    "\n",
    "        Inputs:\n",
    "        - X: A numpy array of shape (N, D) containing a minibatch of data.\n",
    "        - y: A numpy array of shape (N,) containing training labels; y[i] = c means\n",
    "          that X[i] has label c, where 0 <= c < C.\n",
    "\n",
    "        Returns a tuple of:\n",
    "        - loss as single float\n",
    "        \"\"\"\n",
    "\n",
    "        # Initialize the loss to zero.\n",
    "        loss = 0.0\n",
    "\n",
    "        # ================================================================ #\n",
    "        # YOUR CODE HERE:\n",
    "        #   Calculate the normalized softmax loss.  Store it as the variable loss.\n",
    "        #   (That is, calculate the sum of the losses of all the training \n",
    "        #   set margins, and then normalize the loss by the number of \n",
    "        #\ttraining examples.)\n",
    "        # ================================================================ #\n",
    "        temp = np.zeros((X.shape[0]))\n",
    "        for i in range(X.shape[0]):\n",
    "            temp[i] =  self.W[y[i],:].dot(X[i, :].T)\n",
    "            \n",
    "        loss = np.sum(np.log(np.sum(np.exp(self.W.dot(X.T)), axis = 0)) - temp)/X.shape[0]\n",
    "\n",
    "        # ================================================================ #\n",
    "        # END YOUR CODE HERE\n",
    "        # ================================================================ #\n",
    "\n",
    "        return loss\n",
    "\n",
    "    def loss_and_grad(self, X, y):\n",
    "        \"\"\"\n",
    "        Same as self.loss(X, y), except that it also returns the gradient.\n",
    "\n",
    "        Output: grad -- a matrix of the same dimensions as W containing \n",
    "            the gradient of the loss with respect to W.\n",
    "        \"\"\"\n",
    "\n",
    "        # Initialize the loss and gradient to zero.\n",
    "        loss = 0.0\n",
    "        grad = np.zeros_like(self.W)\n",
    "\n",
    "        # ================================================================ #\n",
    "        # YOUR CODE HERE:\n",
    "        #   Calculate the softmax loss and the gradient. Store the gradient\n",
    "        #   as the variable grad.\n",
    "        # ================================================================ #\n",
    "        temp = np.zeros((X.shape[0]))\n",
    "        \n",
    "        for i in range(X.shape[0]):\n",
    "            temp[i] =  self.W[y[i],:].dot(X[i, :].T)\n",
    "            \n",
    "        loss = np.sum(np.log(np.sum(np.exp(self.W.dot(X.T)), axis = 0)) - temp)/X.shape[0]\n",
    "        \n",
    "        Z = self.W.dot(X.T)\n",
    "        expZ = np.exp(Z - np.max(Z))\n",
    "        A = expZ / expZ.sum(axis=0, keepdims=True)\n",
    "        \n",
    "        for i in range(self.W.shape[0]):\n",
    "            ind1 = np.where(y == i)[0]\n",
    "            ind2 = np.where(y != i)[0]\n",
    "            grad[i, :] = -((1 - A[i, ind1]).dot(X[ind1, :]) - A[i, ind2].dot(X[ind2, :]))/X.shape[0]\n",
    "            \n",
    "        # ================================================================ #\n",
    "        # END YOUR CODE HERE\n",
    "        # ================================================================ #\n",
    "\n",
    "        return loss, grad\n",
    "\n",
    "    def grad_check_sparse(self, X, y, your_grad, num_checks=10, h=1e-5):\n",
    "        \"\"\"\n",
    "        sample a few random elements and only return numerical\n",
    "        in these dimensions.\n",
    "        \"\"\"\n",
    "\n",
    "        for i in np.arange(num_checks):\n",
    "            ix = tuple([np.random.randint(m) for m in self.W.shape])\n",
    "\n",
    "            oldval = self.W[ix]\n",
    "            self.W[ix] = oldval + h # increment by h\n",
    "            fxph = self.loss(X, y)\n",
    "            self.W[ix] = oldval - h # decrement by h\n",
    "            fxmh = self.loss(X,y) # evaluate f(x - h)\n",
    "            self.W[ix] = oldval # reset\n",
    "\n",
    "            grad_numerical = (fxph - fxmh) / (2 * h)\n",
    "            grad_analytic = your_grad[ix]\n",
    "            rel_error = abs(grad_numerical - grad_analytic) / (abs(grad_numerical) + abs(grad_analytic))\n",
    "            print('numerical: %f analytic: %f, relative error: %e' % (grad_numerical, grad_analytic, rel_error))\n",
    "\n",
    "    def fast_loss_and_grad(self, X, y):\n",
    "        \"\"\"\n",
    "        A vectorized implementation of loss_and_grad. It shares the same\n",
    "        inputs and ouptuts as loss_and_grad.\n",
    "        \"\"\"\n",
    "        loss = 0.0\n",
    "        grad = np.zeros(self.W.shape) # initialize the gradient as zero\n",
    "\n",
    "        # ================================================================ #\n",
    "        # YOUR CODE HERE:\n",
    "        #   Calculate the softmax loss and gradient WITHOUT any for loops.\n",
    "        # ================================================================ #\n",
    "        Z = self.W.dot(X.T)\n",
    "        expZ = np.exp(Z - np.max(Z))\n",
    "        A = expZ / expZ.sum(axis=0, keepdims=True)\n",
    "        L = np.choose(y, A)\n",
    "        loss = np.mean(-np.log(L))\n",
    "        \n",
    "        Z = self.W.dot(X.T)\n",
    "        expZ = np.exp(Z - np.max(Z))\n",
    "        A = expZ / expZ.sum(axis=0, keepdims=True)\n",
    "        \n",
    "        targets = np.array(y).reshape(-1)\n",
    "        one_hot = np.eye(y.max()+1)[targets].T\n",
    "        grad = -((one_hot*(1 - A)).dot(X) - (np.logical_not(one_hot)*A).dot(X))/X.shape[0]\n",
    "        \n",
    "\n",
    "        # ================================================================ #\n",
    "        # END YOUR CODE HERE\n",
    "        # ================================================================ #\n",
    "\n",
    "        return loss, grad\n",
    "\n",
    "    def train(self, X, y, learning_rate=1e-3, num_iters=100,\n",
    "            batch_size=200, verbose=False):\n",
    "        \"\"\"\n",
    "        Train this linear classifier using stochastic gradient descent.\n",
    "\n",
    "        Inputs:\n",
    "        - X: A numpy array of shape (N, D) containing training data; there are N\n",
    "          training samples each of dimension D.\n",
    "        - y: A numpy array of shape (N,) containing training labels; y[i] = c\n",
    "          means that X[i] has label 0 <= c < C for C classes.\n",
    "        - learning_rate: (float) learning rate for optimization.\n",
    "        - num_iters: (integer) number of steps to take when optimizing\n",
    "        - batch_size: (integer) number of training examples to use at each step.\n",
    "        - verbose: (boolean) If true, print progress during optimization.\n",
    "\n",
    "        Outputs:\n",
    "        A list containing the value of the loss function at each training iteration.\n",
    "        \"\"\"\n",
    "        num_train, dim = X.shape\n",
    "        num_classes = np.max(y) + 1 # assume y takes values 0...K-1 where K is number of classes\n",
    "\n",
    "        self.init_weights(dims=[np.max(y) + 1, X.shape[1]])\t# initializes the weights of self.W\n",
    "\n",
    "        # Run stochastic gradient descent to optimize W\n",
    "        loss_history = []\n",
    "\n",
    "        for it in np.arange(num_iters):\n",
    "            X_batch = None\n",
    "            y_batch = None\n",
    "\n",
    "            # ================================================================ #\n",
    "            # YOUR CODE HERE:\n",
    "            #   Sample batch_size elements from the training data for use in \n",
    "            #\t  gradient descent.  After sampling,\n",
    "            #     - X_batch should have shape: (dim, batch_size)\n",
    "            #     - y_batch should have shape: (batch_size,)\n",
    "            #   The indices should be randomly generated to reduce correlations\n",
    "            #   in the dataset.  Use np.random.choice.  It's okay to sample with\n",
    "            #   replacement.\n",
    "            # ================================================================ #\n",
    "            ind  = np.random.choice(X.shape[0], batch_size)\n",
    "            X_batch = X[ind, :]\n",
    "            y_batch = y[ind]\n",
    "            # ================================================================ #\n",
    "            # END YOUR CODE HERE\n",
    "            # ================================================================ #\n",
    "\n",
    "            # evaluate loss and gradient\n",
    "            loss, grad = self.fast_loss_and_grad(X_batch, y_batch)\n",
    "            loss_history.append(loss)\n",
    "\n",
    "            # ================================================================ #\n",
    "            # YOUR CODE HERE:\n",
    "            #   Update the parameters, self.W, with a gradient step \n",
    "            # ================================================================ #\n",
    "            self.W = self.W - learning_rate*grad\n",
    "\n",
    "            # ================================================================ #\n",
    "            # END YOUR CODE HERE\n",
    "            # ================================================================ #\n",
    "\n",
    "            if verbose and it % 100 == 0:\n",
    "                print('iteration {} / {}: loss {}'.format(it, num_iters, loss))\n",
    "\n",
    "        return loss_history\n",
    "\n",
    "    def predict(self, X):\n",
    "        \"\"\"\n",
    "        Inputs:\n",
    "        - X: N x D array of training data. Each row is a D-dimensional point.\n",
    "\n",
    "        Returns:\n",
    "        - y_pred: Predicted labels for the data in X. y_pred is a 1-dimensional\n",
    "          array of length N, and each element is an integer giving the predicted\n",
    "          class.\n",
    "        \"\"\"\n",
    "        y_pred = np.zeros(X.shape[1])\n",
    "        # ================================================================ #\n",
    "        # YOUR CODE HERE:\n",
    "        #   Predict the labels given the training data.\n",
    "        # ================================================================ #\n",
    "        y_pred = self.W.dot(X.T)\n",
    "        y_pred = np.argmax(y_pred, axis = 0)\n",
    "        # ================================================================ #\n",
    "        # END YOUR CODE HERE\n",
    "        # ================================================================ #\n",
    "\n",
    "        return y_pred\n",
    "\n"
   ]
  }
 ],
 "metadata": {
  "kernelspec": {
   "display_name": "Python 3",
   "language": "python",
   "name": "python3"
  },
  "language_info": {
   "codemirror_mode": {
    "name": "ipython",
    "version": 3
   },
   "file_extension": ".py",
   "mimetype": "text/x-python",
   "name": "python",
   "nbconvert_exporter": "python",
   "pygments_lexer": "ipython3",
   "version": "3.7.9"
  }
 },
 "nbformat": 4,
 "nbformat_minor": 2
}
