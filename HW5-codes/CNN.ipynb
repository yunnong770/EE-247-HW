{
 "cells": [
  {
   "cell_type": "markdown",
   "metadata": {},
   "source": [
    "# Convolutional neural networks\n",
    "\n",
    "In this notebook, we'll put together our convolutional layers to implement a 3-layer CNN.  Then, we'll ask you to implement a CNN that can achieve > 65% validation error on CIFAR-10.\n",
    "\n",
    "CS231n has built a solid API for building these modular frameworks and training them, and we will use their very well implemented framework as opposed to \"reinventing the wheel.\"  This includes using their Solver, various utility functions, their layer structure, and their implementation of fast CNN layers.  This also includes nndl.fc_net, nndl.layers, and nndl.layer_utils.  As in prior assignments, we thank Serena Yeung & Justin Johnson for permission to use code written for the CS 231n class (cs231n.stanford.edu).  \n",
    "\n",
    "\n",
    "If you have not completed the Spatial BatchNorm Notebook, please see the following description from that notebook:\n",
    "\n",
    "Please copy and paste your prior implemented code from HW #4 to start this assignment.  If you did not correctly implement the layers in HW #4, you may collaborate with a classmate to use their layer implementations from HW #4.  You may also visit TA or Prof OH to correct your implementation.  \n",
    "\n",
    "You'll want to copy and paste from HW #4:\n",
    "    - layers.py for your FC network layers, as well as batchnorm and dropout.\n",
    "    - layer_utils.py for your combined FC network layers.\n",
    "    - optim.py for your optimizers.\n",
    "\n",
    "Be sure to place these in the `nndl/` directory so they're imported correctly.  Note, as announced in class, we will not be releasing our solutions."
   ]
  },
  {
   "cell_type": "code",
   "execution_count": 1,
   "metadata": {},
   "outputs": [],
   "source": [
    "# As usual, a bit of setup\n",
    "\n",
    "import numpy as np\n",
    "import matplotlib.pyplot as plt\n",
    "from nndl.cnn import *\n",
    "from cs231n.data_utils import get_CIFAR10_data\n",
    "from cs231n.gradient_check import eval_numerical_gradient_array, eval_numerical_gradient\n",
    "from nndl.layers import *\n",
    "from nndl.conv_layers import *\n",
    "from cs231n.fast_layers import *\n",
    "from cs231n.solver import Solver\n",
    "\n",
    "%matplotlib inline\n",
    "plt.rcParams['figure.figsize'] = (10.0, 8.0) # set default size of plots\n",
    "plt.rcParams['image.interpolation'] = 'nearest'\n",
    "plt.rcParams['image.cmap'] = 'gray'\n",
    "\n",
    "# for auto-reloading external modules\n",
    "# see http://stackoverflow.com/questions/1907993/autoreload-of-modules-in-ipython\n",
    "%load_ext autoreload\n",
    "%autoreload 2\n",
    "\n",
    "def rel_error(x, y):\n",
    "    \"\"\" returns relative error \"\"\"\n",
    "    return np.max(np.abs(x - y) / (np.maximum(1e-8, np.abs(x) + np.abs(y))))"
   ]
  },
  {
   "cell_type": "code",
   "execution_count": 2,
   "metadata": {},
   "outputs": [
    {
     "name": "stdout",
     "output_type": "stream",
     "text": [
      "X_train: (49000, 3, 32, 32) \n",
      "y_train: (49000,) \n",
      "X_val: (1000, 3, 32, 32) \n",
      "y_val: (1000,) \n",
      "X_test: (1000, 3, 32, 32) \n",
      "y_test: (1000,) \n"
     ]
    }
   ],
   "source": [
    "# Load the (preprocessed) CIFAR10 data.\n",
    "\n",
    "data = get_CIFAR10_data()\n",
    "for k in data.keys():\n",
    "    print('{}: {} '.format(k, data[k].shape))"
   ]
  },
  {
   "cell_type": "markdown",
   "metadata": {},
   "source": [
    "## Three layer CNN\n",
    "\n",
    "In this notebook, you will implement a three layer CNN.  The `ThreeLayerConvNet` class is in `nndl/cnn.py`.  You'll need to modify that code for this section, including the initialization, as well as the calculation of the loss and gradients.  You should be able to use the building blocks you have either earlier coded or that we have provided.  Be sure to use the fast layers.\n",
    "\n",
    "The architecture of this CNN will be:\n",
    "\n",
    "conv - relu - 2x2 max pool - affine - relu - affine - softmax\n",
    "\n",
    "We won't use batchnorm yet.  You've also done enough of these to know how to debug; use the cells below.\n",
    "\n",
    "Note: As we are implementing several layers CNN networks. The gradient error can be expected for the `eval_numerical_gradient()` function. If your `W1 max relative error` and `W2 max relative error` are around or below 0.01, they should be acceptable. Other errors should be less than 1e-5. "
   ]
  },
  {
   "cell_type": "code",
   "execution_count": 5,
   "metadata": {},
   "outputs": [
    {
     "name": "stdout",
     "output_type": "stream",
     "text": [
      "W1 max relative error: 0.00019287304316880388\n",
      "W2 max relative error: 0.0013148457853218178\n",
      "W3 max relative error: 3.493360926568374e-05\n",
      "b1 max relative error: 3.255804810700583e-05\n",
      "b2 max relative error: 0.07416580355071307\n",
      "b3 max relative error: 5.06347991204934e-08\n"
     ]
    }
   ],
   "source": [
    "num_inputs = 2\n",
    "input_dim = (3, 16, 16)\n",
    "reg = 0.0\n",
    "num_classes = 10\n",
    "X = np.random.randn(num_inputs, *input_dim)\n",
    "y = np.random.randint(num_classes, size=num_inputs)\n",
    "\n",
    "model = ThreeLayerConvNet(num_filters=3, filter_size=3,\n",
    "                          input_dim=input_dim, hidden_dim=7,\n",
    "                          dtype=np.float64)\n",
    "loss, grads = model.loss(X, y)\n",
    "for param_name in sorted(grads):\n",
    "    f = lambda _: model.loss(X, y)[0]\n",
    "    param_grad_num = eval_numerical_gradient(f, model.params[param_name], verbose=False, h=1e-6)\n",
    "    e = rel_error(param_grad_num, grads[param_name])\n",
    "    print('{} max relative error: {}'.format(param_name, rel_error(param_grad_num, grads[param_name])))"
   ]
  },
  {
   "cell_type": "markdown",
   "metadata": {},
   "source": [
    "### Overfit small dataset\n",
    "\n",
    "To check your CNN implementation, let's overfit a small dataset."
   ]
  },
  {
   "cell_type": "code",
   "execution_count": 17,
   "metadata": {},
   "outputs": [
    {
     "name": "stdout",
     "output_type": "stream",
     "text": [
      "(Iteration 1 / 30) loss: 2.356144\n",
      "(Epoch 0 / 15) train acc: 0.200000; val_acc: 0.118000\n",
      "(Iteration 2 / 30) loss: 2.862445\n",
      "(Epoch 1 / 15) train acc: 0.150000; val_acc: 0.085000\n",
      "(Iteration 3 / 30) loss: 3.526248\n",
      "(Iteration 4 / 30) loss: 3.068693\n",
      "(Epoch 2 / 15) train acc: 0.140000; val_acc: 0.109000\n",
      "(Iteration 5 / 30) loss: 2.608862\n",
      "(Iteration 6 / 30) loss: 2.274711\n",
      "(Epoch 3 / 15) train acc: 0.390000; val_acc: 0.154000\n",
      "(Iteration 7 / 30) loss: 1.763658\n",
      "(Iteration 8 / 30) loss: 2.117732\n",
      "(Epoch 4 / 15) train acc: 0.270000; val_acc: 0.140000\n",
      "(Iteration 9 / 30) loss: 1.869310\n",
      "(Iteration 10 / 30) loss: 2.014736\n",
      "(Epoch 5 / 15) train acc: 0.560000; val_acc: 0.204000\n",
      "(Iteration 11 / 30) loss: 1.702076\n",
      "(Iteration 12 / 30) loss: 1.327492\n",
      "(Epoch 6 / 15) train acc: 0.620000; val_acc: 0.177000\n",
      "(Iteration 13 / 30) loss: 1.410875\n",
      "(Iteration 14 / 30) loss: 1.281020\n",
      "(Epoch 7 / 15) train acc: 0.690000; val_acc: 0.184000\n",
      "(Iteration 15 / 30) loss: 1.099667\n",
      "(Iteration 16 / 30) loss: 1.097223\n",
      "(Epoch 8 / 15) train acc: 0.740000; val_acc: 0.199000\n",
      "(Iteration 17 / 30) loss: 1.026478\n",
      "(Iteration 18 / 30) loss: 0.607490\n",
      "(Epoch 9 / 15) train acc: 0.830000; val_acc: 0.204000\n",
      "(Iteration 19 / 30) loss: 0.834139\n",
      "(Iteration 20 / 30) loss: 0.683425\n",
      "(Epoch 10 / 15) train acc: 0.860000; val_acc: 0.190000\n",
      "(Iteration 21 / 30) loss: 0.720010\n",
      "(Iteration 22 / 30) loss: 0.428625\n",
      "(Epoch 11 / 15) train acc: 0.930000; val_acc: 0.204000\n",
      "(Iteration 23 / 30) loss: 0.360268\n",
      "(Iteration 24 / 30) loss: 0.269194\n",
      "(Epoch 12 / 15) train acc: 0.950000; val_acc: 0.201000\n",
      "(Iteration 25 / 30) loss: 0.213957\n",
      "(Iteration 26 / 30) loss: 0.161933\n",
      "(Epoch 13 / 15) train acc: 0.980000; val_acc: 0.204000\n",
      "(Iteration 27 / 30) loss: 0.167611\n",
      "(Iteration 28 / 30) loss: 0.096709\n",
      "(Epoch 14 / 15) train acc: 0.990000; val_acc: 0.208000\n",
      "(Iteration 29 / 30) loss: 0.085195\n",
      "(Iteration 30 / 30) loss: 0.075419\n",
      "(Epoch 15 / 15) train acc: 1.000000; val_acc: 0.217000\n"
     ]
    }
   ],
   "source": [
    "num_train = 100\n",
    "small_data = {\n",
    "  'X_train': data['X_train'][:num_train],\n",
    "  'y_train': data['y_train'][:num_train],\n",
    "  'X_val': data['X_val'],\n",
    "  'y_val': data['y_val'],\n",
    "}\n",
    "\n",
    "model = ThreeLayerConvNet(weight_scale=1e-2)\n",
    "\n",
    "solver = Solver(model, small_data,\n",
    "                num_epochs=15, batch_size=50,\n",
    "                update_rule='adam',\n",
    "                optim_config={\n",
    "                  'learning_rate': 1e-3,\n",
    "                },\n",
    "                verbose=True, print_every=1)\n",
    "solver.train()"
   ]
  },
  {
   "cell_type": "code",
   "execution_count": 18,
   "metadata": {},
   "outputs": [
    {
     "data": {
      "image/png": "[encoded data removed]",
      "text/plain": [
       "<Figure size 720x576 with 2 Axes>"
      ]
     },
     "metadata": {
      "needs_background": "light"
     },
     "output_type": "display_data"
    }
   ],
   "source": [
    "plt.subplot(2, 1, 1)\n",
    "plt.plot(solver.loss_history, 'o')\n",
    "plt.xlabel('iteration')\n",
    "plt.ylabel('loss')\n",
    "\n",
    "plt.subplot(2, 1, 2)\n",
    "plt.plot(solver.train_acc_history, '-o')\n",
    "plt.plot(solver.val_acc_history, '-o')\n",
    "plt.legend(['train', 'val'], loc='upper left')\n",
    "plt.xlabel('epoch')\n",
    "plt.ylabel('accuracy')\n",
    "plt.show()"
   ]
  },
  {
   "cell_type": "markdown",
   "metadata": {},
   "source": [
    "## Train the network\n",
    "\n",
    "Now we train the 3 layer CNN on CIFAR-10 and assess its accuracy."
   ]
  },
  {
   "cell_type": "code",
   "execution_count": 23,
   "metadata": {
    "scrolled": false
   },
   "outputs": [
    {
     "name": "stdout",
     "output_type": "stream",
     "text": [
      "(Iteration 1 / 980) loss: 2.302562\n",
      "(Epoch 0 / 1) train acc: 0.142000; val_acc: 0.160000\n",
      "(Iteration 21 / 980) loss: 2.054203\n",
      "(Iteration 41 / 980) loss: 1.863208\n",
      "(Iteration 61 / 980) loss: 2.080532\n",
      "(Iteration 81 / 980) loss: 2.049852\n",
      "(Iteration 101 / 980) loss: 1.968709\n",
      "(Iteration 121 / 980) loss: 1.658878\n",
      "(Iteration 141 / 980) loss: 1.656422\n",
      "(Iteration 161 / 980) loss: 1.455849\n",
      "(Iteration 181 / 980) loss: 1.860281\n",
      "(Iteration 201 / 980) loss: 1.550898\n",
      "(Iteration 221 / 980) loss: 2.081913\n",
      "(Iteration 241 / 980) loss: 1.760647\n",
      "(Iteration 261 / 980) loss: 1.886126\n",
      "(Iteration 281 / 980) loss: 1.818700\n",
      "(Iteration 301 / 980) loss: 1.539846\n",
      "(Iteration 321 / 980) loss: 1.844496\n",
      "(Iteration 341 / 980) loss: 1.431681\n",
      "(Iteration 361 / 980) loss: 1.600430\n",
      "(Iteration 381 / 980) loss: 1.800652\n",
      "(Iteration 401 / 980) loss: 1.862708\n",
      "(Iteration 421 / 980) loss: 1.672784\n",
      "(Iteration 441 / 980) loss: 1.620915\n",
      "(Iteration 461 / 980) loss: 2.021709\n",
      "(Iteration 481 / 980) loss: 1.268684\n",
      "(Iteration 501 / 980) loss: 1.528164\n",
      "(Iteration 521 / 980) loss: 1.551834\n",
      "(Iteration 541 / 980) loss: 1.565362\n",
      "(Iteration 561 / 980) loss: 1.364119\n",
      "(Iteration 581 / 980) loss: 1.378294\n",
      "(Iteration 601 / 980) loss: 1.447251\n",
      "(Iteration 621 / 980) loss: 1.854780\n",
      "(Iteration 641 / 980) loss: 1.841873\n",
      "(Iteration 661 / 980) loss: 1.705805\n",
      "(Iteration 681 / 980) loss: 1.550272\n",
      "(Iteration 701 / 980) loss: 1.505730\n",
      "(Iteration 721 / 980) loss: 1.586610\n",
      "(Iteration 741 / 980) loss: 1.533125\n",
      "(Iteration 761 / 980) loss: 1.823513\n",
      "(Iteration 781 / 980) loss: 1.497522\n",
      "(Iteration 801 / 980) loss: 1.529277\n",
      "(Iteration 821 / 980) loss: 1.253751\n",
      "(Iteration 841 / 980) loss: 1.805564\n",
      "(Iteration 861 / 980) loss: 1.589805\n",
      "(Iteration 881 / 980) loss: 1.677028\n",
      "(Iteration 901 / 980) loss: 1.577567\n",
      "(Iteration 921 / 980) loss: 1.771484\n",
      "(Iteration 941 / 980) loss: 1.801736\n",
      "(Iteration 961 / 980) loss: 1.774375\n",
      "(Epoch 1 / 1) train acc: 0.452000; val_acc: 0.441000\n"
     ]
    }
   ],
   "source": [
    "model = ThreeLayerConvNet(weight_scale=0.001, hidden_dim=500, reg=0.001)\n",
    "\n",
    "solver = Solver(model, data,\n",
    "                num_epochs=1, batch_size=50,\n",
    "                update_rule='adam',\n",
    "                optim_config={\n",
    "                  'learning_rate': 1e-3,\n",
    "                },\n",
    "                verbose=True, print_every=20)\n",
    "solver.train()"
   ]
  },
  {
   "cell_type": "markdown",
   "metadata": {},
   "source": [
    "# Get > 65% validation accuracy on CIFAR-10.\n",
    "\n",
    "In the last part of the assignment, we'll now ask you to train a CNN to get better than 65% validation accuracy on CIFAR-10.\n",
    "\n",
    "### Things you should try:\n",
    "- Filter size: Above we used 7x7; but VGGNet and onwards showed stacks of 3x3 filters are good.  \n",
    "- Number of filters: Above we used 32 filters. Do more or fewer do better?\n",
    "- Batch normalization: Try adding spatial batch normalization after convolution layers and vanilla batch normalization aafter affine layers. Do your networks train faster?\n",
    "- Network architecture: Can a deeper CNN do better?  Consider these architectures:\n",
    "    - [conv-relu-pool]xN - conv - relu - [affine]xM - [softmax or SVM]\n",
    "    - [conv-relu-pool]XN - [affine]XM - [softmax or SVM]\n",
    "    - [conv-relu-conv-relu-pool]xN - [affine]xM - [softmax or SVM]\n",
    "\n",
    "### Tips for training\n",
    "For each network architecture that you try, you should tune the learning rate and regularization strength. When doing this there are a couple important things to keep in mind:\n",
    "\n",
    "- If the parameters are working well, you should see improvement within a few hundred iterations\n",
    "- Remember the coarse-to-fine approach for hyperparameter tuning: start by testing a large range of hyperparameters for just a few training iterations to find the combinations of parameters that are working at all.\n",
    "- Once you have found some sets of parameters that seem to work, search more finely around these parameters. You may need to train for more epochs."
   ]
  },
  {
   "cell_type": "code",
   "execution_count": 13,
   "metadata": {
    "scrolled": false
   },
   "outputs": [
    {
     "name": "stdout",
     "output_type": "stream",
     "text": [
      "(Iteration 1 / 4900) loss: 2.304550\n",
      "(Epoch 0 / 10) train acc: 0.224000; val_acc: 0.199000\n",
      "(Iteration 101 / 4900) loss: 1.869197\n",
      "(Iteration 201 / 4900) loss: 1.787248\n",
      "(Iteration 301 / 4900) loss: 1.543229\n",
      "(Iteration 401 / 4900) loss: 1.414051\n",
      "(Epoch 1 / 10) train acc: 0.558000; val_acc: 0.515000\n",
      "(Iteration 501 / 4900) loss: 1.351490\n",
      "(Iteration 601 / 4900) loss: 1.204309\n",
      "(Iteration 701 / 4900) loss: 1.240304\n",
      "(Iteration 801 / 4900) loss: 1.169419\n",
      "(Iteration 901 / 4900) loss: 1.151234\n",
      "(Epoch 2 / 10) train acc: 0.567000; val_acc: 0.590000\n",
      "(Iteration 1001 / 4900) loss: 1.028102\n",
      "(Iteration 1101 / 4900) loss: 0.980700\n",
      "(Iteration 1201 / 4900) loss: 0.857471\n",
      "(Iteration 1301 / 4900) loss: 0.980188\n",
      "(Iteration 1401 / 4900) loss: 1.020785\n",
      "(Epoch 3 / 10) train acc: 0.632000; val_acc: 0.586000\n",
      "(Iteration 1501 / 4900) loss: 0.977457\n",
      "(Iteration 1601 / 4900) loss: 1.138684\n",
      "(Iteration 1701 / 4900) loss: 1.001483\n",
      "(Iteration 1801 / 4900) loss: 0.948732\n",
      "(Iteration 1901 / 4900) loss: 1.043003\n",
      "(Epoch 4 / 10) train acc: 0.672000; val_acc: 0.607000\n",
      "(Iteration 2001 / 4900) loss: 1.044090\n",
      "(Iteration 2101 / 4900) loss: 1.067529\n",
      "(Iteration 2201 / 4900) loss: 0.822883\n",
      "(Iteration 2301 / 4900) loss: 0.833524\n",
      "(Iteration 2401 / 4900) loss: 0.845256\n",
      "(Epoch 5 / 10) train acc: 0.712000; val_acc: 0.634000\n",
      "(Iteration 2501 / 4900) loss: 0.756053\n",
      "(Iteration 2601 / 4900) loss: 0.872845\n",
      "(Iteration 2701 / 4900) loss: 1.022038\n",
      "(Iteration 2801 / 4900) loss: 0.740196\n",
      "(Iteration 2901 / 4900) loss: 0.889298\n",
      "(Epoch 6 / 10) train acc: 0.739000; val_acc: 0.644000\n",
      "(Iteration 3001 / 4900) loss: 0.768084\n",
      "(Iteration 3101 / 4900) loss: 0.870180\n",
      "(Iteration 3201 / 4900) loss: 0.626568\n",
      "(Iteration 3301 / 4900) loss: 0.715736\n",
      "(Iteration 3401 / 4900) loss: 0.774300\n",
      "(Epoch 7 / 10) train acc: 0.783000; val_acc: 0.651000\n",
      "(Iteration 3501 / 4900) loss: 0.758485\n",
      "(Iteration 3601 / 4900) loss: 0.811958\n",
      "(Iteration 3701 / 4900) loss: 0.581454\n",
      "(Iteration 3801 / 4900) loss: 0.740242\n",
      "(Iteration 3901 / 4900) loss: 0.619278\n",
      "(Epoch 8 / 10) train acc: 0.792000; val_acc: 0.651000\n",
      "(Iteration 4001 / 4900) loss: 0.819606\n",
      "(Iteration 4101 / 4900) loss: 0.664760\n",
      "(Iteration 4201 / 4900) loss: 0.695510\n",
      "(Iteration 4301 / 4900) loss: 0.457857\n",
      "(Iteration 4401 / 4900) loss: 0.506347\n",
      "(Epoch 9 / 10) train acc: 0.816000; val_acc: 0.665000\n",
      "(Iteration 4501 / 4900) loss: 0.554008\n",
      "(Iteration 4601 / 4900) loss: 0.649815\n",
      "(Iteration 4701 / 4900) loss: 0.658976\n",
      "(Iteration 4801 / 4900) loss: 0.485025\n",
      "(Epoch 10 / 10) train acc: 0.821000; val_acc: 0.665000\n"
     ]
    }
   ],
   "source": [
    "# ================================================================ #\n",
    "# YOUR CODE HERE:\n",
    "#   Implement a CNN to achieve greater than 65% validation accuracy\n",
    "#   on CIFAR-10.\n",
    "# ================================================================ #\n",
    "# lr_decay = 0.9\n",
    "solvers = {}\n",
    "regs = [0.001]\n",
    "for reg in regs:\n",
    "    model = ThreeLayerConvNet(weight_scale=0.001, hidden_dim=500, filter_size = 3, num_filters = 32, reg=0.001)\n",
    "\n",
    "    solver = Solver(model, data,\n",
    "                  num_epochs=10, batch_size=100,\n",
    "                  update_rule='adam',\n",
    "                  optim_config={\n",
    "                    'learning_rate': 1e-4,\n",
    "                  },\n",
    "                  lr_decay=lr_decay,\n",
    "                  verbose=True, print_every=100)\n",
    "    solver.train()\n",
    "    solvers[reg] = solver\n",
    "\n",
    "# ================================================================ #\n",
    "# END YOUR CODE HERE\n",
    "# ================================================================ #\n"
   ]
  },
  {
   "cell_type": "code",
   "execution_count": 21,
   "metadata": {},
   "outputs": [
    {
     "data": {
      "image/png": "[encoded data removed]",
      "text/plain": [
       "<Figure size 1080x1080 with 1 Axes>"
      ]
     },
     "metadata": {
      "needs_background": "light"
     },
     "output_type": "display_data"
    }
   ],
   "source": [
    "for reg in regs:\n",
    "    plt.plot(solvers[reg].val_acc_history, 'o', label='filter_size:{}, reg: {}'.format(3, reg))\n",
    "    \n",
    "plt.plot(0.65*np.ones(11), '--')\n",
    "plt.title('Val accuracy')\n",
    "plt.xlabel('Epoch')\n",
    "plt.ylabel('Accuracy')\n",
    "plt.legend(ncol=2, loc='lower right')\n",
    "plt.yticks(np.arange(0, 0.75, 0.05))\n",
    "\n",
    "plt.gcf().set_size_inches(15, 15)\n",
    "plt.show()"
   ]
  }
 ],
 "metadata": {
  "kernelspec": {
   "display_name": "Python 3",
   "language": "python",
   "name": "python3"
  },
  "language_info": {
   "codemirror_mode": {
    "name": "ipython",
    "version": 3
   },
   "file_extension": ".py",
   "mimetype": "text/x-python",
   "name": "python",
   "nbconvert_exporter": "python",
   "pygments_lexer": "ipython3",
   "version": "3.7.9"
  }
 },
 "nbformat": 4,
 "nbformat_minor": 2
}
